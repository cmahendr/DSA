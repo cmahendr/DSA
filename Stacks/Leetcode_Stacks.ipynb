{
 "cells": [
  {
   "cell_type": "code",
   "execution_count": null,
   "metadata": {},
   "outputs": [],
   "source": [
    "# https://leetcode.com/problems/min-stack/\n",
    "# We can solve this problem in two ways\n",
    "# 1. Using same list we will append a tuple of (val, min_val) every time.\n",
    "# 2. By using two separate lists one is for list of values and other list is for min values\n",
    "class MinStack:\n",
    "    def __init__(self):\n",
    "        self.stack = []\n",
    "        self.min_stack = []\n",
    "\n",
    "    def push(self, val: int) -> None:\n",
    "        # if not self.stack:\n",
    "        #     self.stack.append((val, val))\n",
    "        #     return\n",
    "        # curr_min = self.stack[-1][1]\n",
    "        # self.stack.append((val, min(val, curr_min)))\n",
    "        self.stack.append(val)\n",
    "        if not self.min_stack or val <= self.min_stack[-1]:\n",
    "            self.min_stack.append(val)\n",
    "\n",
    "    def pop(self) -> None:\n",
    "        if self.min_stack:\n",
    "            if self.stack[-1] == self.min_stack[-1]:\n",
    "                self.min_stack.pop()\n",
    "        if self.stack:\n",
    "            self.stack.pop()\n",
    "\n",
    "    def top(self) -> int:\n",
    "        # return self.stack[-1][0]\n",
    "        return self.stack[-1]\n",
    "\n",
    "    def getMin(self) -> int:\n",
    "        # return self.stack[-1][1]\n",
    "        return self.min_stack[-1]\n",
    "\n",
    "\n",
    "# Your MinStack object will be instantiated and called as such:\n",
    "# obj = MinStack()\n",
    "# obj.push(val)\n",
    "# obj.pop()\n",
    "# param_3 = obj.top()\n",
    "# param_4 = obj.getMin()"
   ]
  },
  {
   "cell_type": "code",
   "execution_count": null,
   "metadata": {},
   "outputs": [],
   "source": [
    "# https://leetcode.com/problems/evaluate-reverse-polish-notation/\n",
    "from typing import List\n",
    "class Solution:\n",
    "    def evalRPN(self, tokens: List[str]) -> int:\n",
    "        stack = []\n",
    "        ops = {\"+\", \"-\", \"*\", \"/\"}\n",
    "        for t in tokens:\n",
    "            if t not in ops:\n",
    "                stack.append(int(t))\n",
    "            else:\n",
    "                b = stack.pop()\n",
    "                a = stack.pop()\n",
    "                if t == \"+\": stack.append(a + b)\n",
    "                elif t == \"-\": stack.append(a - b)\n",
    "                elif t == \"*\": stack.append(a * b)\n",
    "                else:\n",
    "                    stack.append(int(a / b))\n",
    "        return stack.pop()"
   ]
  },
  {
   "cell_type": "code",
   "execution_count": null,
   "metadata": {},
   "outputs": [],
   "source": [
    "# https://leetcode.com/problems/daily-temperatures/\n",
    "class Solution:\n",
    "    def dailyTemperatures(self, temperatures: List[int]) -> List[int]:\n",
    "        n = len(temperatures)\n",
    "        hottest = 0\n",
    "        answer = [0] * n\n",
    "        for curr_day in range(n - 1, -1, -1):\n",
    "            current_temp = temperatures[curr_day]\n",
    "            if current_temp >= hottest:\n",
    "                hottest = current_temp\n",
    "                continue\n",
    "            days = 1\n",
    "            while temperatures[curr_day + days] <= current_temp:\n",
    "                days += answer[curr_day + days]\n",
    "            answer[curr_day] = days\n",
    "        return answer\n",
    "\n",
    "# Monotonic Stack way of solving\n",
    "def dailyTemperatures(self, temperatures: List[int]) -> List[int]:\n",
    "    n = len(temperatures)\n",
    "    ans = [0] * n\n",
    "    st = [] # indices, temps decreasing top-down\n",
    "    for i, t in enumerate(temperatures):\n",
    "        while st and temperatures[st[-1]] < t:\n",
    "            j = st.pop()\n",
    "            ans[j] = i-j\n",
    "        st.append(i)\n",
    "    return ans\n"
   ]
  },
  {
   "cell_type": "code",
   "execution_count": null,
   "metadata": {},
   "outputs": [],
   "source": [
    "# https://leetcode.com/problems/car-fleet/\n",
    "from typing import List\n",
    "class Solution:\n",
    "    def carFleet(self, target: int, position: List[int], speed: List[int]) -> int:\n",
    "        # Sort cars by position ASC (farthest -> nearest)\n",
    "        cars = sorted(zip(position, speed))\n",
    "        stack = []  # will store times-to-target in STRICTLY DECREASING order\n",
    "        for p, s in cars:\n",
    "            t = (target - p) / s  # time for this (front) car to reach target\n",
    "            # If this front car's time >= time of the car behind (stack top),\n",
    "            # that behind car will catch up (or meet at the target) -> same fleet.\n",
    "            # Pop all such behind cars absorbed by this front fleet.\n",
    "            while stack and t >= stack[-1]:\n",
    "                stack.pop()\n",
    "            # Push the front car (or the merged fleet) time.\n",
    "            stack.append(t)\n",
    "\n",
    "        return len(stack)\n"
   ]
  },
  {
   "cell_type": "code",
   "execution_count": null,
   "metadata": {},
   "outputs": [],
   "source": [
    "# https://leetcode.com/problems/buildings-with-an-ocean-view/\n",
    "class Solution:\n",
    "    def findBuildings(self, heights: List[int]) -> List[int]:\n",
    "        st = []\n",
    "        for i, h in enumerate(heights):\n",
    "            while st and h >= heights[st[-1]]:\n",
    "                st.pop()\n",
    "            st.append(i)\n",
    "        return st\n"
   ]
  },
  {
   "cell_type": "code",
   "execution_count": null,
   "metadata": {},
   "outputs": [],
   "source": [
    "# https://leetcode.com/problems/next-greater-element-i/\n",
    "class Solution:\n",
    "    def nextGreaterElement(self, nums1: List[int], nums2: List[int]) -> List[int]:\n",
    "        # n = len(nums1)\n",
    "        # st = [-1]*n\n",
    "        # n2 = len(nums2)\n",
    "        # for i, v in enumerate(nums1):\n",
    "        #     if v in nums2:\n",
    "        #         index = nums2.index(v)\n",
    "        #         while index<n2-1:\n",
    "        #             if nums2[index+1]>v:\n",
    "        #                 st[i] = nums2[index+1]\n",
    "        #                 break\n",
    "        #             index+=1\n",
    "        # return st\n",
    "        index_map = {}\n",
    "        stack = []\n",
    "        for n in nums2:\n",
    "            while stack and stack[-1] < n:\n",
    "                index_map[stack.pop()] = n\n",
    "            stack.append(n)\n",
    "        return [index_map.get(n, -1) for n in nums1]\n"
   ]
  },
  {
   "cell_type": "code",
   "execution_count": 39,
   "metadata": {},
   "outputs": [
    {
     "data": {
      "text/plain": [
       "True"
      ]
     },
     "execution_count": 39,
     "metadata": {},
     "output_type": "execute_result"
    }
   ],
   "source": [
    "import math\n",
    "class Solution:\n",
    "    def find132pattern(self, nums: List[int]) -> bool:\n",
    "        mon_dec_stack = [] #contains [num, min_before_num] \n",
    "        min_before_num = math.inf\n",
    "        for num in nums:\n",
    "            while mon_dec_stack and mon_dec_stack[-1][0]<=num: \n",
    "                mon_dec_stack.pop()\n",
    "            if mon_dec_stack and mon_dec_stack[-1][1]< num: \n",
    "                return True\n",
    "            min_before_num = min(min_before_num, num)\n",
    "            mon_dec_stack.append([num, min_before_num])\n",
    "        return False\n",
    "    \n",
    "nums = [-1,3,2,0]\n",
    "Solution().find132pattern(nums)"
   ]
  }
 ],
 "metadata": {
  "kernelspec": {
   "display_name": "base",
   "language": "python",
   "name": "python3"
  },
  "language_info": {
   "codemirror_mode": {
    "name": "ipython",
    "version": 3
   },
   "file_extension": ".py",
   "mimetype": "text/x-python",
   "name": "python",
   "nbconvert_exporter": "python",
   "pygments_lexer": "ipython3",
   "version": "3.9.7"
  }
 },
 "nbformat": 4,
 "nbformat_minor": 2
}
