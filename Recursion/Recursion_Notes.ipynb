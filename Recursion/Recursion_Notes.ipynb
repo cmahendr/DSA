{
 "cells": [
  {
   "cell_type": "markdown",
   "metadata": {},
   "source": [
    "### Recursion is a problem solving technique where a function calls itself directly. Basically, it breaks the problem into smaller or self-similar subproblems and solve each smaller part and at the end combine them to achieve the result. \n",
    "##### 1. A recursive function must have a \"base case,\" which is a condition where the function does not call itself and directly returns a result, preventing infinite recursion"
   ]
  },
  {
   "cell_type": "markdown",
   "metadata": {},
   "source": [
    "### Backtracking is an algorithmic technique that systematically searches for solutions by exploring all possible paths or choices until a valid solution is found"
   ]
  },
  {
   "cell_type": "markdown",
   "metadata": {},
   "source": [
    "##### 1. When a path is found to be invalid or unpromising, the algorithm \"backtracks\" by undoing the last decision and exploring an alternative choice. Backtracking typically relies on recursion for its implementation.\n",
    "##### In Simple:\n",
    "##### 1. Make a desicion 2. Be optimistic(i.e., thinking this will work) 3. if that works out that's great that means problem is sloved. 4. if that didn't solve the problem then comeback and revisit by undoing the previous decision  "
   ]
  },
  {
   "cell_type": "code",
   "execution_count": null,
   "metadata": {},
   "outputs": [],
   "source": [
    "def exp(a,m):\n",
    "    if m==0:\n",
    "        return 1\n",
    "    if m==1:\n",
    "        return a\n",
    "    if (m %2) == 0:\n",
    "        # (a**(m/2))*(a**(m/2))\n",
    "        return exp(a, m//2) * exp(a, m//2)\n",
    "    else:\n",
    "        # (a**((m-1)/2))*(a**((m-1)/2))*a or below works as well\n",
    "        return exp(a, m//2) * exp(a, m//2) * a\n",
    "    # return a*exp(a, m-1) # Simplest way but makes more recursive calls. Above solution will make fewer recursive calls by making half exp.\n",
    "assert(exp(2,7)==128)"
   ]
  },
  {
   "cell_type": "code",
   "execution_count": null,
   "metadata": {},
   "outputs": [],
   "source": [
    "def binarySearch(array, value): # —--- Without recursion \n",
    "    left,right = 0, len(array)-1 \n",
    "    while left<=right:\n",
    "        middle = (left+right)//2 \n",
    "        if array[middle] == value:\n",
    "            return middle \n",
    "        elif value<array[middle]: \n",
    "            right=middle-1 \n",
    "        else: \n",
    "            left=middle+1 \n",
    "    return -1 \n",
    "    \n",
    "array = [8,9,12,13,14,15,16,20,22,31,50]\n",
    "binarySearch(array,16)"
   ]
  },
  {
   "cell_type": "code",
   "execution_count": null,
   "metadata": {},
   "outputs": [],
   "source": [
    "def fib(n):\n",
    "    if n==0:\n",
    "        return 0\n",
    "    if n==1:\n",
    "        return 1\n",
    "    return fib(n-1)+fib(n-2)\n",
    "\n",
    "fib(4)\n",
    "# 0 1 1 2 3 5 8 13"
   ]
  },
  {
   "cell_type": "code",
   "execution_count": null,
   "metadata": {},
   "outputs": [],
   "source": [
    "def factorial(n):\n",
    "    if n==0:\n",
    "        return 1\n",
    "    # if n==1:\n",
    "    #     return 1\n",
    "    return n * factorial(n-1)\n",
    "\n",
    "factorial(6)"
   ]
  },
  {
   "cell_type": "code",
   "execution_count": null,
   "metadata": {},
   "outputs": [],
   "source": [
    "def IsPalindrome(st: str) -> bool:\n",
    "    st = ''.join(ch.casefold() for ch in st if not ch.isspace())\n",
    "    # return st == st[::-1]  // Using string slice not recursion\n",
    "    # out = []\n",
    "    # for ch in st:\n",
    "    #     if not ch.isspace():\n",
    "    #        out.append(ch.lower())\n",
    "    # print(out)\n",
    "    # st = ''.join(out)\n",
    "    # print(st)\n",
    "\n",
    "    if len(st)<=1:\n",
    "        return True\n",
    "    return st[0]==st[len(st)-1] and IsPalindrome(st[1:(len(st)-1)])\n",
    "IsPalindrome(\"Was it a car or a Cat i Saw\")"
   ]
  },
  {
   "cell_type": "markdown",
   "metadata": {},
   "source": [
    "#### Permutations: (nPr) = (n!)/(n-r)!\n",
    "##### Arranging things in different order. For permutations order matters(Means that (A,B) ≠ (B,A).). Permutations: Used when sequence is important(e.g., passwords, rankings, race results).\n",
    "###### Example with A, B, C (taking 2 letters at a time)\n",
    "###### If order matters (permutations):AB and BA are different. So the set is: {AB, AC, BA, BC, CA, CB} → 6 permutations."
   ]
  },
  {
   "cell_type": "markdown",
   "metadata": {},
   "source": [
    "#### Combinations: (nCr) = (n!)/(n-r)!*r! OR (nPr)/r!\n",
    "##### Selection of things where order doesn't matter. You’re only choosing the group, not arranging it.\n",
    "###### Example: If order doesn’t matter (combinations): AB and BA are treated as the same group. So the set is: {AB, AC, BC} → 3 combinations.\n",
    "###### Combinations: Used when only the selection matters (e.g., choosing a team, lottery numbers, committee members)."
   ]
  }
 ],
 "metadata": {
  "kernelspec": {
   "display_name": "base",
   "language": "python",
   "name": "python3"
  },
  "language_info": {
   "codemirror_mode": {
    "name": "ipython",
    "version": 3
   },
   "file_extension": ".py",
   "mimetype": "text/x-python",
   "name": "python",
   "nbconvert_exporter": "python",
   "pygments_lexer": "ipython3",
   "version": "3.9.7"
  }
 },
 "nbformat": 4,
 "nbformat_minor": 2
}
